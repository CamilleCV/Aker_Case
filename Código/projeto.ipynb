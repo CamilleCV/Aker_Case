{
 "cells": [
  {
   "attachments": {},
   "cell_type": "markdown",
   "metadata": {},
   "source": [
    "# Setup"
   ]
  },
  {
   "cell_type": "code",
   "execution_count": 3,
   "metadata": {},
   "outputs": [],
   "source": [
    "import pandas as pd\n",
    "\n",
    "pd.set_option('display.max_columns', None)"
   ]
  },
  {
   "cell_type": "code",
   "execution_count": 4,
   "metadata": {},
   "outputs": [
    {
     "name": "stdout",
     "output_type": "stream",
     "text": [
      "3587304\n"
     ]
    },
    {
     "data": {
      "text/html": [
       "<div>\n",
       "<style scoped>\n",
       "    .dataframe tbody tr th:only-of-type {\n",
       "        vertical-align: middle;\n",
       "    }\n",
       "\n",
       "    .dataframe tbody tr th {\n",
       "        vertical-align: top;\n",
       "    }\n",
       "\n",
       "    .dataframe thead th {\n",
       "        text-align: right;\n",
       "    }\n",
       "</style>\n",
       "<table border=\"1\" class=\"dataframe\">\n",
       "  <thead>\n",
       "    <tr style=\"text-align: right;\">\n",
       "      <th></th>\n",
       "      <th>ID_PLANO</th>\n",
       "      <th>CD_PLANO</th>\n",
       "      <th>NM_PLANO</th>\n",
       "      <th>CD_OPERADORA</th>\n",
       "      <th>RAZAO_SOCIAL</th>\n",
       "      <th>GR_MODALIDADE</th>\n",
       "      <th>PORTE_OPERADORA</th>\n",
       "      <th>VIGENCIA_PLANO</th>\n",
       "      <th>CONTRATACAO</th>\n",
       "      <th>GR_CONTRATACAO</th>\n",
       "      <th>SGMT_ASSISTENCIAL</th>\n",
       "      <th>GR_SGMT_ASSISTENCIAL</th>\n",
       "      <th>LG_ODONTOLOGICO</th>\n",
       "      <th>OBSTETRICIA</th>\n",
       "      <th>COBERTURA</th>\n",
       "      <th>TIPO_FINANCIAMENTO</th>\n",
       "      <th>ABRANGENCIA_COBERTURA</th>\n",
       "      <th>FATOR_MODERADOR</th>\n",
       "      <th>ACOMODACAO_HOSPITALAR</th>\n",
       "      <th>LIVRE_ESCOLHA</th>\n",
       "      <th>SITUACAO_PLANO</th>\n",
       "      <th>DT_SITUACAO</th>\n",
       "      <th>DT_REGISTRO_PLANO</th>\n",
       "      <th>DT_ATUALIZACAO</th>\n",
       "    </tr>\n",
       "  </thead>\n",
       "  <tbody>\n",
       "    <tr>\n",
       "      <th>0</th>\n",
       "      <td>16346253</td>\n",
       "      <td>457189084</td>\n",
       "      <td>Especial Empresarial/PME Odontológico COP</td>\n",
       "      <td>6246</td>\n",
       "      <td>Sul America Companhia De Seguro Saúde</td>\n",
       "      <td>Seguradora</td>\n",
       "      <td>Grande</td>\n",
       "      <td>P</td>\n",
       "      <td>Coletivo empresarial</td>\n",
       "      <td>Coletivo empresarial</td>\n",
       "      <td>Odontológico</td>\n",
       "      <td>Exclusivamente Odontológico</td>\n",
       "      <td>1</td>\n",
       "      <td>Não se Aplica</td>\n",
       "      <td>Odontológica</td>\n",
       "      <td>Preestabelecido</td>\n",
       "      <td>Nacional</td>\n",
       "      <td>Coparticipacão</td>\n",
       "      <td>Não se Aplica</td>\n",
       "      <td>Parcial sem internação</td>\n",
       "      <td>Ativo</td>\n",
       "      <td>2019-11-22</td>\n",
       "      <td>2008-05-07</td>\n",
       "      <td>2023-08-24</td>\n",
       "    </tr>\n",
       "    <tr>\n",
       "      <th>1</th>\n",
       "      <td>16346265</td>\n",
       "      <td>457193082</td>\n",
       "      <td>Máximo Empresarial/PME Odontológico COP</td>\n",
       "      <td>6246</td>\n",
       "      <td>Sul America Companhia De Seguro Saúde</td>\n",
       "      <td>Seguradora</td>\n",
       "      <td>Grande</td>\n",
       "      <td>P</td>\n",
       "      <td>Coletivo por adesão</td>\n",
       "      <td>Coletivo por adesão</td>\n",
       "      <td>Odontológico</td>\n",
       "      <td>Exclusivamente Odontológico</td>\n",
       "      <td>1</td>\n",
       "      <td>Não se Aplica</td>\n",
       "      <td>Odontológica</td>\n",
       "      <td>Preestabelecido</td>\n",
       "      <td>Nacional</td>\n",
       "      <td>Coparticipacão</td>\n",
       "      <td>Não se Aplica</td>\n",
       "      <td>Parcial sem internação</td>\n",
       "      <td>Suspenso</td>\n",
       "      <td>2013-05-30</td>\n",
       "      <td>2008-05-07</td>\n",
       "      <td>2023-08-24</td>\n",
       "    </tr>\n",
       "    <tr>\n",
       "      <th>2</th>\n",
       "      <td>16346520</td>\n",
       "      <td>20708</td>\n",
       "      <td>PME GLOBAL TRAD SEM TIPO - SEM AIDS - ESPECIAL</td>\n",
       "      <td>6246</td>\n",
       "      <td>Sul America Companhia De Seguro Saúde</td>\n",
       "      <td>Seguradora</td>\n",
       "      <td>Grande</td>\n",
       "      <td>A</td>\n",
       "      <td>Coletivo empresarial</td>\n",
       "      <td>Coletivo empresarial</td>\n",
       "      <td>Ambulatorial + Hospitalar com obstetrícia</td>\n",
       "      <td>Ambulatorial + Hospitalar</td>\n",
       "      <td>0</td>\n",
       "      <td>Com Obstetrícia</td>\n",
       "      <td>Médico-hospitalar</td>\n",
       "      <td>Não Informado</td>\n",
       "      <td>Nacional</td>\n",
       "      <td>Ausente</td>\n",
       "      <td>Não Informado</td>\n",
       "      <td>Total</td>\n",
       "      <td>Transferido</td>\n",
       "      <td>2013-05-07</td>\n",
       "      <td>NaN</td>\n",
       "      <td>2023-08-24</td>\n",
       "    </tr>\n",
       "    <tr>\n",
       "      <th>3</th>\n",
       "      <td>16346538</td>\n",
       "      <td>20805</td>\n",
       "      <td>GRUPAL GLOBAL - EXECUTIVO II</td>\n",
       "      <td>6246</td>\n",
       "      <td>Sul America Companhia De Seguro Saúde</td>\n",
       "      <td>Seguradora</td>\n",
       "      <td>Grande</td>\n",
       "      <td>A</td>\n",
       "      <td>Coletivo empresarial</td>\n",
       "      <td>Coletivo empresarial</td>\n",
       "      <td>Ambulatorial + Hospitalar com obstetrícia</td>\n",
       "      <td>Ambulatorial + Hospitalar</td>\n",
       "      <td>0</td>\n",
       "      <td>Com Obstetrícia</td>\n",
       "      <td>Médico-hospitalar</td>\n",
       "      <td>Não Informado</td>\n",
       "      <td>Nacional</td>\n",
       "      <td>Ausente</td>\n",
       "      <td>Não Informado</td>\n",
       "      <td>Total</td>\n",
       "      <td>Transferido</td>\n",
       "      <td>2013-05-07</td>\n",
       "      <td>NaN</td>\n",
       "      <td>2023-08-24</td>\n",
       "    </tr>\n",
       "    <tr>\n",
       "      <th>4</th>\n",
       "      <td>18227374</td>\n",
       "      <td>485073204</td>\n",
       "      <td>DIRETO CWB STc Adesão Trad.16 F AHO QC COP</td>\n",
       "      <td>6246</td>\n",
       "      <td>Sul America Companhia De Seguro Saúde</td>\n",
       "      <td>Seguradora</td>\n",
       "      <td>Grande</td>\n",
       "      <td>P</td>\n",
       "      <td>Coletivo por adesão</td>\n",
       "      <td>Coletivo por adesão</td>\n",
       "      <td>Ambulatorial + Hospitalar com obstetrícia</td>\n",
       "      <td>Ambulatorial + Hospitalar</td>\n",
       "      <td>0</td>\n",
       "      <td>Com Obstetrícia</td>\n",
       "      <td>Médico-hospitalar</td>\n",
       "      <td>Preestabelecido</td>\n",
       "      <td>Grupo de municípios</td>\n",
       "      <td>Coparticipacão</td>\n",
       "      <td>Coletiva</td>\n",
       "      <td>Parcial sem internação</td>\n",
       "      <td>Ativo</td>\n",
       "      <td>2020-03-06</td>\n",
       "      <td>2020-03-06</td>\n",
       "      <td>2023-08-24</td>\n",
       "    </tr>\n",
       "  </tbody>\n",
       "</table>\n",
       "</div>"
      ],
      "text/plain": [
       "   ID_PLANO   CD_PLANO                                        NM_PLANO  \\\n",
       "0  16346253  457189084       Especial Empresarial/PME Odontológico COP   \n",
       "1  16346265  457193082         Máximo Empresarial/PME Odontológico COP   \n",
       "2  16346520      20708  PME GLOBAL TRAD SEM TIPO - SEM AIDS - ESPECIAL   \n",
       "3  16346538      20805                    GRUPAL GLOBAL - EXECUTIVO II   \n",
       "4  18227374  485073204      DIRETO CWB STc Adesão Trad.16 F AHO QC COP   \n",
       "\n",
       "   CD_OPERADORA                           RAZAO_SOCIAL GR_MODALIDADE  \\\n",
       "0          6246  Sul America Companhia De Seguro Saúde    Seguradora   \n",
       "1          6246  Sul America Companhia De Seguro Saúde    Seguradora   \n",
       "2          6246  Sul America Companhia De Seguro Saúde    Seguradora   \n",
       "3          6246  Sul America Companhia De Seguro Saúde    Seguradora   \n",
       "4          6246  Sul America Companhia De Seguro Saúde    Seguradora   \n",
       "\n",
       "  PORTE_OPERADORA VIGENCIA_PLANO           CONTRATACAO        GR_CONTRATACAO  \\\n",
       "0          Grande              P  Coletivo empresarial  Coletivo empresarial   \n",
       "1          Grande              P   Coletivo por adesão   Coletivo por adesão   \n",
       "2          Grande              A  Coletivo empresarial  Coletivo empresarial   \n",
       "3          Grande              A  Coletivo empresarial  Coletivo empresarial   \n",
       "4          Grande              P   Coletivo por adesão   Coletivo por adesão   \n",
       "\n",
       "                           SGMT_ASSISTENCIAL         GR_SGMT_ASSISTENCIAL  \\\n",
       "0                               Odontológico  Exclusivamente Odontológico   \n",
       "1                               Odontológico  Exclusivamente Odontológico   \n",
       "2  Ambulatorial + Hospitalar com obstetrícia    Ambulatorial + Hospitalar   \n",
       "3  Ambulatorial + Hospitalar com obstetrícia    Ambulatorial + Hospitalar   \n",
       "4  Ambulatorial + Hospitalar com obstetrícia    Ambulatorial + Hospitalar   \n",
       "\n",
       "   LG_ODONTOLOGICO      OBSTETRICIA          COBERTURA TIPO_FINANCIAMENTO  \\\n",
       "0                1    Não se Aplica       Odontológica    Preestabelecido   \n",
       "1                1    Não se Aplica       Odontológica    Preestabelecido   \n",
       "2                0  Com Obstetrícia  Médico-hospitalar      Não Informado   \n",
       "3                0  Com Obstetrícia  Médico-hospitalar      Não Informado   \n",
       "4                0  Com Obstetrícia  Médico-hospitalar    Preestabelecido   \n",
       "\n",
       "  ABRANGENCIA_COBERTURA FATOR_MODERADOR ACOMODACAO_HOSPITALAR  \\\n",
       "0              Nacional  Coparticipacão         Não se Aplica   \n",
       "1              Nacional  Coparticipacão         Não se Aplica   \n",
       "2              Nacional         Ausente         Não Informado   \n",
       "3              Nacional         Ausente         Não Informado   \n",
       "4   Grupo de municípios  Coparticipacão              Coletiva   \n",
       "\n",
       "            LIVRE_ESCOLHA SITUACAO_PLANO DT_SITUACAO DT_REGISTRO_PLANO  \\\n",
       "0  Parcial sem internação          Ativo  2019-11-22        2008-05-07   \n",
       "1  Parcial sem internação       Suspenso  2013-05-30        2008-05-07   \n",
       "2                   Total    Transferido  2013-05-07               NaN   \n",
       "3                   Total    Transferido  2013-05-07               NaN   \n",
       "4  Parcial sem internação          Ativo  2020-03-06        2020-03-06   \n",
       "\n",
       "  DT_ATUALIZACAO  \n",
       "0     2023-08-24  \n",
       "1     2023-08-24  \n",
       "2     2023-08-24  \n",
       "3     2023-08-24  \n",
       "4     2023-08-24  "
      ]
     },
     "execution_count": 4,
     "metadata": {},
     "output_type": "execute_result"
    }
   ],
   "source": [
    "df = pd.read_csv('../Dados/caracteristicas_produtos_saude_suplementar.csv', sep=';')\n",
    "\n",
    "print(df.size)\n",
    "\n",
    "df.head()"
   ]
  },
  {
   "attachments": {},
   "cell_type": "markdown",
   "metadata": {},
   "source": [
    "# Tratamento Inicial"
   ]
  },
  {
   "attachments": {},
   "cell_type": "markdown",
   "metadata": {},
   "source": [
    "## Tratando Valores Nulos:"
   ]
  },
  {
   "cell_type": "code",
   "execution_count": 5,
   "metadata": {},
   "outputs": [
    {
     "data": {
      "text/plain": [
       "ID_PLANO                     0\n",
       "CD_PLANO                     2\n",
       "NM_PLANO                     1\n",
       "CD_OPERADORA                 0\n",
       "RAZAO_SOCIAL                 0\n",
       "GR_MODALIDADE                0\n",
       "PORTE_OPERADORA              0\n",
       "VIGENCIA_PLANO               0\n",
       "CONTRATACAO                  0\n",
       "GR_CONTRATACAO               0\n",
       "SGMT_ASSISTENCIAL            0\n",
       "GR_SGMT_ASSISTENCIAL         0\n",
       "LG_ODONTOLOGICO              0\n",
       "OBSTETRICIA                  0\n",
       "COBERTURA                    0\n",
       "TIPO_FINANCIAMENTO           0\n",
       "ABRANGENCIA_COBERTURA        0\n",
       "FATOR_MODERADOR              0\n",
       "ACOMODACAO_HOSPITALAR        0\n",
       "LIVRE_ESCOLHA                0\n",
       "SITUACAO_PLANO               0\n",
       "DT_SITUACAO                  0\n",
       "DT_REGISTRO_PLANO        37999\n",
       "DT_ATUALIZACAO               0\n",
       "dtype: int64"
      ]
     },
     "execution_count": 5,
     "metadata": {},
     "output_type": "execute_result"
    }
   ],
   "source": [
    "##################################\n",
    "#### VERIFICANDO DADOS NULOS: ####\n",
    "##################################\n",
    "\n",
    "df.isnull().sum()"
   ]
  },
  {
   "attachments": {},
   "cell_type": "markdown",
   "metadata": {},
   "source": [
    "### Análise para CD_PLANO:"
   ]
  },
  {
   "cell_type": "code",
   "execution_count": 6,
   "metadata": {},
   "outputs": [
    {
     "data": {
      "text/html": [
       "<div>\n",
       "<style scoped>\n",
       "    .dataframe tbody tr th:only-of-type {\n",
       "        vertical-align: middle;\n",
       "    }\n",
       "\n",
       "    .dataframe tbody tr th {\n",
       "        vertical-align: top;\n",
       "    }\n",
       "\n",
       "    .dataframe thead th {\n",
       "        text-align: right;\n",
       "    }\n",
       "</style>\n",
       "<table border=\"1\" class=\"dataframe\">\n",
       "  <thead>\n",
       "    <tr style=\"text-align: right;\">\n",
       "      <th></th>\n",
       "      <th>ID_PLANO</th>\n",
       "      <th>CD_PLANO</th>\n",
       "      <th>NM_PLANO</th>\n",
       "      <th>CD_OPERADORA</th>\n",
       "      <th>RAZAO_SOCIAL</th>\n",
       "      <th>GR_MODALIDADE</th>\n",
       "      <th>PORTE_OPERADORA</th>\n",
       "      <th>VIGENCIA_PLANO</th>\n",
       "      <th>CONTRATACAO</th>\n",
       "      <th>GR_CONTRATACAO</th>\n",
       "      <th>SGMT_ASSISTENCIAL</th>\n",
       "      <th>GR_SGMT_ASSISTENCIAL</th>\n",
       "      <th>LG_ODONTOLOGICO</th>\n",
       "      <th>OBSTETRICIA</th>\n",
       "      <th>COBERTURA</th>\n",
       "      <th>TIPO_FINANCIAMENTO</th>\n",
       "      <th>ABRANGENCIA_COBERTURA</th>\n",
       "      <th>FATOR_MODERADOR</th>\n",
       "      <th>ACOMODACAO_HOSPITALAR</th>\n",
       "      <th>LIVRE_ESCOLHA</th>\n",
       "      <th>SITUACAO_PLANO</th>\n",
       "      <th>DT_SITUACAO</th>\n",
       "      <th>DT_REGISTRO_PLANO</th>\n",
       "      <th>DT_ATUALIZACAO</th>\n",
       "    </tr>\n",
       "  </thead>\n",
       "  <tbody>\n",
       "    <tr>\n",
       "      <th>60803</th>\n",
       "      <td>1523432</td>\n",
       "      <td>NaN</td>\n",
       "      <td>PLANO ANTIGO</td>\n",
       "      <td>364312</td>\n",
       "      <td>Unimed De Araraquara - Coop. De Trab. Médico</td>\n",
       "      <td>Cooperativa Médica</td>\n",
       "      <td>Médio</td>\n",
       "      <td>A</td>\n",
       "      <td>Coletivo por adesão</td>\n",
       "      <td>Coletivo por adesão</td>\n",
       "      <td>Ambulatorial + Hospitalar com obstetrícia</td>\n",
       "      <td>Ambulatorial + Hospitalar</td>\n",
       "      <td>0</td>\n",
       "      <td>Com Obstetrícia</td>\n",
       "      <td>Médico-hospitalar</td>\n",
       "      <td>Não Informado</td>\n",
       "      <td>Grupo de municípios</td>\n",
       "      <td>Ausente</td>\n",
       "      <td>Não Informado</td>\n",
       "      <td>Total</td>\n",
       "      <td>Suspenso</td>\n",
       "      <td>2006-07-05</td>\n",
       "      <td>NaN</td>\n",
       "      <td>2023-08-24</td>\n",
       "    </tr>\n",
       "    <tr>\n",
       "      <th>142943</th>\n",
       "      <td>1513152</td>\n",
       "      <td>NaN</td>\n",
       "      <td>NaN</td>\n",
       "      <td>326755</td>\n",
       "      <td>Associação Evangelica Beneficente De Londrina</td>\n",
       "      <td>Filantropia</td>\n",
       "      <td>Médio</td>\n",
       "      <td>A</td>\n",
       "      <td>Individual ou familiar</td>\n",
       "      <td>Individual ou Familiar</td>\n",
       "      <td>Hospitalar com obstetrícia</td>\n",
       "      <td>Hospitalar</td>\n",
       "      <td>0</td>\n",
       "      <td>Com Obstetrícia</td>\n",
       "      <td>Médico-hospitalar</td>\n",
       "      <td>Não Informado</td>\n",
       "      <td>Municipal</td>\n",
       "      <td>Ausente</td>\n",
       "      <td>Não Informado</td>\n",
       "      <td>Total</td>\n",
       "      <td>Suspenso</td>\n",
       "      <td>2005-07-28</td>\n",
       "      <td>NaN</td>\n",
       "      <td>2023-08-24</td>\n",
       "    </tr>\n",
       "  </tbody>\n",
       "</table>\n",
       "</div>"
      ],
      "text/plain": [
       "        ID_PLANO CD_PLANO      NM_PLANO  CD_OPERADORA  \\\n",
       "60803    1523432      NaN  PLANO ANTIGO        364312   \n",
       "142943   1513152      NaN           NaN        326755   \n",
       "\n",
       "                                         RAZAO_SOCIAL       GR_MODALIDADE  \\\n",
       "60803    Unimed De Araraquara - Coop. De Trab. Médico  Cooperativa Médica   \n",
       "142943  Associação Evangelica Beneficente De Londrina         Filantropia   \n",
       "\n",
       "       PORTE_OPERADORA VIGENCIA_PLANO             CONTRATACAO  \\\n",
       "60803            Médio              A     Coletivo por adesão   \n",
       "142943           Médio              A  Individual ou familiar   \n",
       "\n",
       "                GR_CONTRATACAO                          SGMT_ASSISTENCIAL  \\\n",
       "60803      Coletivo por adesão  Ambulatorial + Hospitalar com obstetrícia   \n",
       "142943  Individual ou Familiar                 Hospitalar com obstetrícia   \n",
       "\n",
       "             GR_SGMT_ASSISTENCIAL  LG_ODONTOLOGICO      OBSTETRICIA  \\\n",
       "60803   Ambulatorial + Hospitalar                0  Com Obstetrícia   \n",
       "142943                 Hospitalar                0  Com Obstetrícia   \n",
       "\n",
       "                COBERTURA TIPO_FINANCIAMENTO ABRANGENCIA_COBERTURA  \\\n",
       "60803   Médico-hospitalar      Não Informado   Grupo de municípios   \n",
       "142943  Médico-hospitalar      Não Informado             Municipal   \n",
       "\n",
       "       FATOR_MODERADOR ACOMODACAO_HOSPITALAR LIVRE_ESCOLHA SITUACAO_PLANO  \\\n",
       "60803          Ausente         Não Informado         Total       Suspenso   \n",
       "142943         Ausente         Não Informado         Total       Suspenso   \n",
       "\n",
       "       DT_SITUACAO DT_REGISTRO_PLANO DT_ATUALIZACAO  \n",
       "60803   2006-07-05               NaN     2023-08-24  \n",
       "142943  2005-07-28               NaN     2023-08-24  "
      ]
     },
     "execution_count": 6,
     "metadata": {},
     "output_type": "execute_result"
    }
   ],
   "source": [
    "# Verificando os valores nulos do Plano...\n",
    "\n",
    "df[df['CD_PLANO'].isnull()]"
   ]
  },
  {
   "cell_type": "code",
   "execution_count": 7,
   "metadata": {},
   "outputs": [
    {
     "data": {
      "text/plain": [
       "0.0013380521974162211"
      ]
     },
     "execution_count": 7,
     "metadata": {},
     "output_type": "execute_result"
    }
   ],
   "source": [
    "# Mostrando a porcentagem (%) dos valores nulos do CD_PLANO no DataFrame:\n",
    "\n",
    "len(df[df['CD_PLANO'].isnull()])/len(df) * 100"
   ]
  },
  {
   "cell_type": "code",
   "execution_count": 8,
   "metadata": {},
   "outputs": [],
   "source": [
    "# Os valores nulos do CD_PLANO foram removidos do DataFrame, por representarem um volume de dados pequeno:\n",
    "\n",
    "df = df.dropna(subset = ['CD_PLANO'])"
   ]
  },
  {
   "attachments": {},
   "cell_type": "markdown",
   "metadata": {},
   "source": [
    "### Análise para o DT_REGISTRO_PLANO:"
   ]
  },
  {
   "cell_type": "code",
   "execution_count": 9,
   "metadata": {},
   "outputs": [
    {
     "data": {
      "text/plain": [
       "25.421324823207485"
      ]
     },
     "execution_count": 9,
     "metadata": {},
     "output_type": "execute_result"
    }
   ],
   "source": [
    "# Mostrando a porcentagem (%) dos valores nulos do DT_REGISTRO_PLANO no DataFrame:\n",
    "\n",
    "len(df[df['DT_REGISTRO_PLANO'].isnull()])/len(df) * 100"
   ]
  },
  {
   "attachments": {},
   "cell_type": "markdown",
   "metadata": {},
   "source": [
    "25% das linhas de dados apresentam o DT_REGISTRO_PLANO como nulo. <p>\n",
    "Desse modo, esses valores não podem ser descartados, pois influenciaria na modelagem e na análise de dados."
   ]
  },
  {
   "attachments": {},
   "cell_type": "markdown",
   "metadata": {},
   "source": [
    "## Verificando o Tipo das Colunas:"
   ]
  },
  {
   "cell_type": "code",
   "execution_count": 10,
   "metadata": {},
   "outputs": [
    {
     "name": "stdout",
     "output_type": "stream",
     "text": [
      "<class 'pandas.core.frame.DataFrame'>\n",
      "Int64Index: 149469 entries, 0 to 149470\n",
      "Data columns (total 24 columns):\n",
      " #   Column                 Non-Null Count   Dtype \n",
      "---  ------                 --------------   ----- \n",
      " 0   ID_PLANO               149469 non-null  int64 \n",
      " 1   CD_PLANO               149469 non-null  object\n",
      " 2   NM_PLANO               149469 non-null  object\n",
      " 3   CD_OPERADORA           149469 non-null  int64 \n",
      " 4   RAZAO_SOCIAL           149469 non-null  object\n",
      " 5   GR_MODALIDADE          149469 non-null  object\n",
      " 6   PORTE_OPERADORA        149469 non-null  object\n",
      " 7   VIGENCIA_PLANO         149469 non-null  object\n",
      " 8   CONTRATACAO            149469 non-null  object\n",
      " 9   GR_CONTRATACAO         149469 non-null  object\n",
      " 10  SGMT_ASSISTENCIAL      149469 non-null  object\n",
      " 11  GR_SGMT_ASSISTENCIAL   149469 non-null  object\n",
      " 12  LG_ODONTOLOGICO        149469 non-null  int64 \n",
      " 13  OBSTETRICIA            149469 non-null  object\n",
      " 14  COBERTURA              149469 non-null  object\n",
      " 15  TIPO_FINANCIAMENTO     149469 non-null  object\n",
      " 16  ABRANGENCIA_COBERTURA  149469 non-null  object\n",
      " 17  FATOR_MODERADOR        149469 non-null  object\n",
      " 18  ACOMODACAO_HOSPITALAR  149469 non-null  object\n",
      " 19  LIVRE_ESCOLHA          149469 non-null  object\n",
      " 20  SITUACAO_PLANO         149469 non-null  object\n",
      " 21  DT_SITUACAO            149469 non-null  object\n",
      " 22  DT_REGISTRO_PLANO      111472 non-null  object\n",
      " 23  DT_ATUALIZACAO         149469 non-null  object\n",
      "dtypes: int64(3), object(21)\n",
      "memory usage: 28.5+ MB\n"
     ]
    }
   ],
   "source": [
    "############################################\n",
    "#### VERIFICANDO O TIPO DE CADA COLUNA: ####\n",
    "############################################\n",
    "\n",
    "df.info()"
   ]
  },
  {
   "attachments": {},
   "cell_type": "markdown",
   "metadata": {},
   "source": [
    "Nessa etapa, alguns dados tiveram sua natureza alterados. <p>\n",
    "O dicionário de dados trouxe algumas informações sobre as *features* que eu não compreendi o sentido, tais como **NM_PLANO ser uma DATA**. <p>\n",
    "Optei por trabalhar da forma como acredito que faça mais sentido para mim. Se não fosse um *case*, eu iria perguntar se essas alterações poderiam ser realizadas. <p>"
   ]
  },
  {
   "attachments": {},
   "cell_type": "markdown",
   "metadata": {},
   "source": [
    "### Tratando Dados que deveriam ser *Datetime*"
   ]
  },
  {
   "cell_type": "code",
   "execution_count": 11,
   "metadata": {},
   "outputs": [],
   "source": [
    "df['DT_SITUACAO'] = pd.to_datetime(df['DT_SITUACAO'], format='%Y-%m-%d')\n",
    "df['DT_REGISTRO_PLANO'] = pd.to_datetime(df['DT_REGISTRO_PLANO'], format='%Y-%m-%d')\n",
    "df['DT_ATUALIZACAO'] = pd.to_datetime(df['DT_ATUALIZACAO'], format='%Y-%m-%d')"
   ]
  },
  {
   "attachments": {},
   "cell_type": "markdown",
   "metadata": {},
   "source": [
    "## Verificando a Unicidade dos Dados:"
   ]
  },
  {
   "attachments": {},
   "cell_type": "markdown",
   "metadata": {},
   "source": [
    "Compreendo que nem todos os dados sejam únicos, ou que sejam completamente diferentes. <p>\n",
    "EM uma análise de predição, acho que é importante conhecer quantas informações distintas existem no conjunto de cada *feature*. <p>\n",
    "Por exemplo, se o *ID_PLANO* apresentar um valor diferente para cada linha do DataFrame, essa informação, embora seja relevante para os dados em relação ao cliente, não exercem influência em uma análise de predição, ocasionando em gasto computacional sem agregar na acertividade. Desse modo, julgo ser relevante essa análie."
   ]
  },
  {
   "cell_type": "code",
   "execution_count": 12,
   "metadata": {},
   "outputs": [
    {
     "name": "stdout",
     "output_type": "stream",
     "text": [
      "ID_PLANO : \n",
      "Qtde -   149469\n",
      "Porc -   100.0\n"
     ]
    }
   ],
   "source": [
    "colunas = df.columns\n",
    "tamanho_df = len(df)\n",
    "\n",
    "for i in range(len(colunas)):\n",
    "    dados_unicos = len(df[df.columns[i]].unique())\n",
    "    porcentagem = round((dados_unicos / tamanho_df) * 100, 2)\n",
    "    if porcentagem > 80:\n",
    "        print(df.columns[i], ': ')\n",
    "        print('Qtde -  ', dados_unicos)\n",
    "        print('Porc -  ', round((dados_unicos / tamanho_df) * 100, 2))\n"
   ]
  },
  {
   "attachments": {},
   "cell_type": "markdown",
   "metadata": {},
   "source": [
    "Desse modo, o ID_PLANO não é uma *feature* relevante para os modelos de Predição."
   ]
  },
  {
   "attachments": {},
   "cell_type": "markdown",
   "metadata": {},
   "source": [
    "## Análise Exploratória"
   ]
  },
  {
   "cell_type": "code",
   "execution_count": 13,
   "metadata": {},
   "outputs": [],
   "source": [
    "# Importando o Seaborn:\n",
    "\n",
    "import seaborn as sns"
   ]
  },
  {
   "cell_type": "code",
   "execution_count": null,
   "metadata": {},
   "outputs": [],
   "source": []
  },
  {
   "cell_type": "code",
   "execution_count": null,
   "metadata": {},
   "outputs": [],
   "source": []
  },
  {
   "cell_type": "code",
   "execution_count": null,
   "metadata": {},
   "outputs": [],
   "source": []
  },
  {
   "cell_type": "code",
   "execution_count": null,
   "metadata": {},
   "outputs": [],
   "source": []
  },
  {
   "cell_type": "code",
   "execution_count": null,
   "metadata": {},
   "outputs": [],
   "source": []
  },
  {
   "cell_type": "code",
   "execution_count": null,
   "metadata": {},
   "outputs": [],
   "source": []
  },
  {
   "cell_type": "code",
   "execution_count": null,
   "metadata": {},
   "outputs": [],
   "source": []
  },
  {
   "cell_type": "code",
   "execution_count": null,
   "metadata": {},
   "outputs": [],
   "source": []
  }
 ],
 "metadata": {
  "kernelspec": {
   "display_name": "Python 3",
   "language": "python",
   "name": "python3"
  },
  "language_info": {
   "codemirror_mode": {
    "name": "ipython",
    "version": 3
   },
   "file_extension": ".py",
   "mimetype": "text/x-python",
   "name": "python",
   "nbconvert_exporter": "python",
   "pygments_lexer": "ipython3",
   "version": "3.10.12"
  },
  "orig_nbformat": 4
 },
 "nbformat": 4,
 "nbformat_minor": 2
}
